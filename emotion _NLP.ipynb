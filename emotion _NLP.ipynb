{
 "cells": [
  {
   "cell_type": "code",
   "execution_count": null,
   "id": "4373f04d",
   "metadata": {},
   "outputs": [],
   "source": [
    "import nltk\n",
    "import re\n",
    "from nltk.corpus import stopwords"
   ]
  },
  {
   "cell_type": "code",
   "execution_count": null,
   "id": "ad5a40c6",
   "metadata": {},
   "outputs": [],
   "source": [
    "import pandas as pd\n",
    "import numpy as np"
   ]
  },
  {
   "cell_type": "code",
   "execution_count": null,
   "id": "e94f7f10",
   "metadata": {},
   "outputs": [],
   "source": [
    "cd D:\\Downloads\\emotion_kaggle"
   ]
  },
  {
   "cell_type": "code",
   "execution_count": null,
   "id": "206dbd9f",
   "metadata": {},
   "outputs": [],
   "source": [
    "train_text=pd.read_csv(\"train.txt\",header=None,index_col=False,names=['text'])\n",
    "test_text=pd.read_csv('test.txt',header=None,index_col=False,names=['text'])\n",
    "val_text=pd.read_csv(\"val.txt\",header=None,index_col=False,names=['text'])"
   ]
  },
  {
   "cell_type": "code",
   "execution_count": null,
   "id": "7dd46282",
   "metadata": {},
   "outputs": [],
   "source": [
    "train_text['text']=train_text['text'].str.split(\";\")\n",
    "val_text['text']=val_text['text'].str.split(\";\")\n",
    "test_text['text']=test_text['text'].str.split(\";\")"
   ]
  },
  {
   "cell_type": "code",
   "execution_count": null,
   "id": "66266510",
   "metadata": {},
   "outputs": [],
   "source": [
    "train_text"
   ]
  },
  {
   "cell_type": "code",
   "execution_count": null,
   "id": "91315434",
   "metadata": {},
   "outputs": [],
   "source": [
    "from tensorflow.keras.preprocessing.text import one_hot\n",
    "from nltk.stem import PorterStemmer, WordNetLemmatizer\n",
    "from tensorflow.keras.layers import Embedding\n",
    "from tensorflow.keras.preprocessing.sequence import pad_sequences"
   ]
  },
  {
   "cell_type": "code",
   "execution_count": null,
   "id": "146235db",
   "metadata": {},
   "outputs": [],
   "source": [
    "nltk.download('punkt')"
   ]
  },
  {
   "cell_type": "code",
   "execution_count": null,
   "id": "c858ef03",
   "metadata": {},
   "outputs": [],
   "source": [
    "train_text['emotion']=train_text['text'].str[1]\n",
    "train_text['text']=train_text['text'].str[0]\n",
    "len(train_text['emotion'].unique())"
   ]
  },
  {
   "cell_type": "code",
   "execution_count": null,
   "id": "062fdd14",
   "metadata": {},
   "outputs": [],
   "source": [
    "val_text['emotion']=val_text['text'].str[1]\n",
    "val_text['text']=val_text['text'].str[0]\n",
    "val_text"
   ]
  },
  {
   "cell_type": "code",
   "execution_count": null,
   "id": "4d22b85f",
   "metadata": {},
   "outputs": [],
   "source": [
    "test_text['emotion']=test_text['text'].str[1]\n",
    "test_text['text']=test_text['text'].str[0]\n",
    "test_text"
   ]
  },
  {
   "cell_type": "code",
   "execution_count": null,
   "id": "c7113f08",
   "metadata": {},
   "outputs": [],
   "source": [
    "final_text=[]\n",
    "ps=PorterStemmer()\n",
    "for i in range(len(train_text)):\n",
    "    review=re.sub('[^a-zA-Z]',' ',train_text['text'][i])\n",
    "    review=re.split(' ',review)\n",
    "    review=[ps.stem(word) for word in review if not word in stopwords.words('english')]\n",
    "    review=' '.join(review)\n",
    "    final_text.append(review)\n",
    "    "
   ]
  },
  {
   "cell_type": "code",
   "execution_count": null,
   "id": "59594532",
   "metadata": {},
   "outputs": [],
   "source": [
    "finalval_text=[]\n",
    "ps=PorterStemmer()\n",
    "for i in range(len(val_text)):\n",
    "    review=re.sub('[^a-zA-Z]',' ',val_text['text'][i])\n",
    "    review=re.split(' ',review)\n",
    "    review=[ps.stem(word) for word in review if not word in stopwords.words('english')]\n",
    "    review=' '.join(review)\n",
    "    finalval_text.append(review)"
   ]
  },
  {
   "cell_type": "code",
   "execution_count": null,
   "id": "a3764d7a",
   "metadata": {},
   "outputs": [],
   "source": [
    "finaltest_text=[]\n",
    "ps=PorterStemmer()\n",
    "for i in range(len(test_text)):\n",
    "    review=re.sub('[^a-zA-Z]',' ',test_text['text'][i])\n",
    "    review=re.split(' ',review)\n",
    "    review=[ps.stem(word) for word in review if not word in stopwords.words('english')]\n",
    "    review=' '.join(review)\n",
    "    finaltest_text.append(review)"
   ]
  },
  {
   "cell_type": "code",
   "execution_count": null,
   "id": "a8109846",
   "metadata": {},
   "outputs": [],
   "source": [
    "train_text['final_text']=final_text\n",
    "test_text['finaltest_text']=finaltest_text\n",
    "val_text['finalval_text']=finalval_text"
   ]
  },
  {
   "cell_type": "code",
   "execution_count": null,
   "id": "3d8525e4",
   "metadata": {},
   "outputs": [],
   "source": [
    "voc_size=10000\n",
    "onehot_train=[one_hot(words,voc_size) for words in final_text]"
   ]
  },
  {
   "cell_type": "code",
   "execution_count": null,
   "id": "e4e7ae1c",
   "metadata": {},
   "outputs": [],
   "source": [
    "onehot_test=[one_hot(words,voc_size) for words in finaltest_text]\n",
    "onehot_val=[one_hot(words,voc_size) for words in finalval_text]"
   ]
  },
  {
   "cell_type": "code",
   "execution_count": null,
   "id": "2f84e2fd",
   "metadata": {},
   "outputs": [],
   "source": [
    "sent_length=20\n",
    "embedded_docs_train=pad_sequences(onehot_train,padding='pre',maxlen=sent_length)"
   ]
  },
  {
   "cell_type": "code",
   "execution_count": null,
   "id": "173cb98e",
   "metadata": {},
   "outputs": [],
   "source": [
    "sent_length=20\n",
    "embedded_docs_test=pad_sequences(onehot_test,padding='pre',maxlen=sent_length)\n",
    "embedded_docs_val=pad_sequences(onehot_val,padding='pre',maxlen=sent_length)"
   ]
  },
  {
   "cell_type": "code",
   "execution_count": null,
   "id": "2111e54c",
   "metadata": {},
   "outputs": [],
   "source": [
    "from tensorflow.keras.models import Sequential\n",
    "from tensorflow.keras.layers import Dense,LSTM\n",
    "embedding_vector_features=300\n",
    "model=Sequential()\n",
    "model.add(Embedding(voc_size,300,input_length=sent_length))\n",
    "model.add(LSTM(100))\n",
    "model.add(Dense(6,activation='softmax'))\n",
    "model.compile(loss='categorical_crossentropy',optimizer='adam',metrics=['accuracy'])"
   ]
  },
  {
   "cell_type": "code",
   "execution_count": null,
   "id": "00bf88de",
   "metadata": {},
   "outputs": [],
   "source": [
    "from sklearn.preprocessing import OneHotEncoder\n",
    "from sklearn.compose import ColumnTransformer\n",
    "ohe=ColumnTransformer(transformers=[('encoder',OneHotEncoder(),[1])],remainder='passthrough')\n"
   ]
  },
  {
   "cell_type": "code",
   "execution_count": null,
   "id": "936d52bb",
   "metadata": {},
   "outputs": [],
   "source": [
    "X_train=embedded_docs_train.astype(np.float32)\n",
    "X_test=embedded_docs_test.astype(np.float32)\n",
    "X_val=embedded_docs_val.astype(np.float32)"
   ]
  },
  {
   "cell_type": "code",
   "execution_count": null,
   "id": "3cd16cf1",
   "metadata": {
    "scrolled": true
   },
   "outputs": [],
   "source": [
    "Y_train=pd.DataFrame(ohe.fit_transform(train_text)).iloc[:,:-2].values.astype(np.float32)\n",
    "Y_test=pd.DataFrame(ohe.fit_transform(test_text)).iloc[:,:-2].values.astype(np.float32)\n",
    "Y_val=pd.DataFrame(ohe.fit_transform(val_text)).iloc[:,:-2].values.astype(np.float32)"
   ]
  },
  {
   "cell_type": "code",
   "execution_count": null,
   "id": "294e998b",
   "metadata": {},
   "outputs": [],
   "source": [
    "Y_train"
   ]
  },
  {
   "cell_type": "code",
   "execution_count": null,
   "id": "b907b949",
   "metadata": {},
   "outputs": [],
   "source": [
    "model.fit(X_train,Y_train, batch_size=128, epochs=5, validation_data=(X_val, Y_val))"
   ]
  },
  {
   "cell_type": "code",
   "execution_count": null,
   "id": "1be49002",
   "metadata": {},
   "outputs": [],
   "source": [
    "pred=model.predict(X_test)\n",
    "pred=pred.argmax(axis=-1)\n",
    "predl=np.zeros((Y_test.shape))\n",
    "for i in range(len(pred)):\n",
    "    predl[i][pred[i]]=1\n",
    "predl"
   ]
  },
  {
   "cell_type": "code",
   "execution_count": null,
   "id": "c839d4a6",
   "metadata": {},
   "outputs": [],
   "source": [
    "from sklearn.metrics import accuracy_score\n",
    "score=accuracy_score(Y_test,predl)\n",
    "score"
   ]
  },
  {
   "cell_type": "code",
   "execution_count": null,
   "id": "0f804f34",
   "metadata": {},
   "outputs": [],
   "source": []
  }
 ],
 "metadata": {
  "kernelspec": {
   "display_name": "Python 3 (ipykernel)",
   "language": "python",
   "name": "python3"
  },
  "language_info": {
   "codemirror_mode": {
    "name": "ipython",
    "version": 3
   },
   "file_extension": ".py",
   "mimetype": "text/x-python",
   "name": "python",
   "nbconvert_exporter": "python",
   "pygments_lexer": "ipython3",
   "version": "3.9.7"
  }
 },
 "nbformat": 4,
 "nbformat_minor": 5
}
